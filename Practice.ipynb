{
 "cells": [
  {
   "cell_type": "markdown",
   "id": "42e11830",
   "metadata": {},
   "source": [
    "Having spent years analyzing financial records for big banks, you've finally scratched your idealistic itch and joined the education sector. Your latest role is Chief Data Scientist for your city's school district. In this capacity, you'll be helping the school board and mayor make strategic decisions regarding future school budgets and priorities.\n",
    "\n",
    "As a first task, you've been asked to analyze the district-wide standardized test results. You'll be given access to every student's math and reading scores, as well as various information on the schools they attend. Your task is to aggregate the data to showcase obvious trends in school performance."
   ]
  },
  {
   "cell_type": "code",
   "execution_count": 1,
   "id": "23cb6acb",
   "metadata": {},
   "outputs": [],
   "source": [
    "import pandas as pd"
   ]
  },
  {
   "cell_type": "code",
   "execution_count": 2,
   "id": "8a63bb06",
   "metadata": {},
   "outputs": [],
   "source": [
    "school_raw = pd.read_csv(r'C:\\Users\\ericj\\Desktop\\Data_Analytics_2022\\Data_Analytics_2022\\Pandas-Challenge\\Instructions\\PyCitySchools\\Resources/schools_complete.csv')\n",
    "student_raw = pd.read_csv(r'C:\\Users\\ericj\\Desktop\\Data_Analytics_2022\\Data_Analytics_2022\\Pandas-Challenge\\Instructions\\PyCitySchools\\Resources/students_complete.csv')"
   ]
  },
  {
   "cell_type": "markdown",
   "id": "0733dc89",
   "metadata": {},
   "source": [
    "### District Summary\n",
    "\n",
    "Create a high-level snapshot, in a DataFrame, of the district's key metrics, including the following:\n",
    "\n",
    "* Total schools\n",
    "* Total students\n",
    "* Total budget\n",
    "* Average math score\n",
    "* Average reading score\n",
    "* % passing math (the percentage of students who passed math)\n",
    "* % passing reading (the percentage of students who passed reading)\n",
    "* % overall passing (the percentage of students who passed math AND reading)"
   ]
  },
  {
   "cell_type": "code",
   "execution_count": 3,
   "id": "36062b60",
   "metadata": {},
   "outputs": [
    {
     "data": {
      "text/html": [
       "<div>\n",
       "<style scoped>\n",
       "    .dataframe tbody tr th:only-of-type {\n",
       "        vertical-align: middle;\n",
       "    }\n",
       "\n",
       "    .dataframe tbody tr th {\n",
       "        vertical-align: top;\n",
       "    }\n",
       "\n",
       "    .dataframe thead th {\n",
       "        text-align: right;\n",
       "    }\n",
       "</style>\n",
       "<table border=\"1\" class=\"dataframe\">\n",
       "  <thead>\n",
       "    <tr style=\"text-align: right;\">\n",
       "      <th></th>\n",
       "      <th>School ID</th>\n",
       "      <th>school_name</th>\n",
       "      <th>type</th>\n",
       "      <th>size</th>\n",
       "      <th>budget</th>\n",
       "    </tr>\n",
       "  </thead>\n",
       "  <tbody>\n",
       "    <tr>\n",
       "      <th>0</th>\n",
       "      <td>0</td>\n",
       "      <td>Huang High School</td>\n",
       "      <td>District</td>\n",
       "      <td>2917</td>\n",
       "      <td>1910635</td>\n",
       "    </tr>\n",
       "    <tr>\n",
       "      <th>1</th>\n",
       "      <td>1</td>\n",
       "      <td>Figueroa High School</td>\n",
       "      <td>District</td>\n",
       "      <td>2949</td>\n",
       "      <td>1884411</td>\n",
       "    </tr>\n",
       "    <tr>\n",
       "      <th>2</th>\n",
       "      <td>2</td>\n",
       "      <td>Shelton High School</td>\n",
       "      <td>Charter</td>\n",
       "      <td>1761</td>\n",
       "      <td>1056600</td>\n",
       "    </tr>\n",
       "    <tr>\n",
       "      <th>3</th>\n",
       "      <td>3</td>\n",
       "      <td>Hernandez High School</td>\n",
       "      <td>District</td>\n",
       "      <td>4635</td>\n",
       "      <td>3022020</td>\n",
       "    </tr>\n",
       "    <tr>\n",
       "      <th>4</th>\n",
       "      <td>4</td>\n",
       "      <td>Griffin High School</td>\n",
       "      <td>Charter</td>\n",
       "      <td>1468</td>\n",
       "      <td>917500</td>\n",
       "    </tr>\n",
       "  </tbody>\n",
       "</table>\n",
       "</div>"
      ],
      "text/plain": [
       "   School ID            school_name      type  size   budget\n",
       "0          0      Huang High School  District  2917  1910635\n",
       "1          1   Figueroa High School  District  2949  1884411\n",
       "2          2    Shelton High School   Charter  1761  1056600\n",
       "3          3  Hernandez High School  District  4635  3022020\n",
       "4          4    Griffin High School   Charter  1468   917500"
      ]
     },
     "execution_count": 3,
     "metadata": {},
     "output_type": "execute_result"
    }
   ],
   "source": [
    "school_raw.head()"
   ]
  },
  {
   "cell_type": "code",
   "execution_count": 4,
   "id": "bc671b73",
   "metadata": {},
   "outputs": [],
   "source": [
    "Number_of_schools = len(school_raw['school_name'].value_counts())"
   ]
  },
  {
   "cell_type": "code",
   "execution_count": 5,
   "id": "3d107b86",
   "metadata": {},
   "outputs": [
    {
     "data": {
      "text/html": [
       "<div>\n",
       "<style scoped>\n",
       "    .dataframe tbody tr th:only-of-type {\n",
       "        vertical-align: middle;\n",
       "    }\n",
       "\n",
       "    .dataframe tbody tr th {\n",
       "        vertical-align: top;\n",
       "    }\n",
       "\n",
       "    .dataframe thead th {\n",
       "        text-align: right;\n",
       "    }\n",
       "</style>\n",
       "<table border=\"1\" class=\"dataframe\">\n",
       "  <thead>\n",
       "    <tr style=\"text-align: right;\">\n",
       "      <th></th>\n",
       "      <th>Student ID</th>\n",
       "      <th>student_name</th>\n",
       "      <th>gender</th>\n",
       "      <th>grade</th>\n",
       "      <th>school_name</th>\n",
       "      <th>reading_score</th>\n",
       "      <th>math_score</th>\n",
       "    </tr>\n",
       "  </thead>\n",
       "  <tbody>\n",
       "    <tr>\n",
       "      <th>0</th>\n",
       "      <td>0</td>\n",
       "      <td>Paul Bradley</td>\n",
       "      <td>M</td>\n",
       "      <td>9th</td>\n",
       "      <td>Huang High School</td>\n",
       "      <td>66</td>\n",
       "      <td>79</td>\n",
       "    </tr>\n",
       "    <tr>\n",
       "      <th>1</th>\n",
       "      <td>1</td>\n",
       "      <td>Victor Smith</td>\n",
       "      <td>M</td>\n",
       "      <td>12th</td>\n",
       "      <td>Huang High School</td>\n",
       "      <td>94</td>\n",
       "      <td>61</td>\n",
       "    </tr>\n",
       "    <tr>\n",
       "      <th>2</th>\n",
       "      <td>2</td>\n",
       "      <td>Kevin Rodriguez</td>\n",
       "      <td>M</td>\n",
       "      <td>12th</td>\n",
       "      <td>Huang High School</td>\n",
       "      <td>90</td>\n",
       "      <td>60</td>\n",
       "    </tr>\n",
       "    <tr>\n",
       "      <th>3</th>\n",
       "      <td>3</td>\n",
       "      <td>Dr. Richard Scott</td>\n",
       "      <td>M</td>\n",
       "      <td>12th</td>\n",
       "      <td>Huang High School</td>\n",
       "      <td>67</td>\n",
       "      <td>58</td>\n",
       "    </tr>\n",
       "    <tr>\n",
       "      <th>4</th>\n",
       "      <td>4</td>\n",
       "      <td>Bonnie Ray</td>\n",
       "      <td>F</td>\n",
       "      <td>9th</td>\n",
       "      <td>Huang High School</td>\n",
       "      <td>97</td>\n",
       "      <td>84</td>\n",
       "    </tr>\n",
       "  </tbody>\n",
       "</table>\n",
       "</div>"
      ],
      "text/plain": [
       "   Student ID       student_name gender grade        school_name  \\\n",
       "0           0       Paul Bradley      M   9th  Huang High School   \n",
       "1           1       Victor Smith      M  12th  Huang High School   \n",
       "2           2    Kevin Rodriguez      M  12th  Huang High School   \n",
       "3           3  Dr. Richard Scott      M  12th  Huang High School   \n",
       "4           4         Bonnie Ray      F   9th  Huang High School   \n",
       "\n",
       "   reading_score  math_score  \n",
       "0             66          79  \n",
       "1             94          61  \n",
       "2             90          60  \n",
       "3             67          58  \n",
       "4             97          84  "
      ]
     },
     "execution_count": 5,
     "metadata": {},
     "output_type": "execute_result"
    }
   ],
   "source": [
    "student_raw.head()"
   ]
  },
  {
   "cell_type": "code",
   "execution_count": 6,
   "id": "31589fc3",
   "metadata": {},
   "outputs": [],
   "source": [
    "Number_of_students = len(student_raw['Student ID'].value_counts())"
   ]
  },
  {
   "cell_type": "code",
   "execution_count": 7,
   "id": "d03a89e5",
   "metadata": {},
   "outputs": [],
   "source": [
    "Total_budget = school_raw['budget'].sum()"
   ]
  },
  {
   "cell_type": "code",
   "execution_count": 8,
   "id": "cc066850",
   "metadata": {},
   "outputs": [],
   "source": [
    "Average_math = student_raw['math_score'].mean()"
   ]
  },
  {
   "cell_type": "code",
   "execution_count": 9,
   "id": "12ac3034",
   "metadata": {},
   "outputs": [],
   "source": [
    "Average_reading = student_raw['reading_score'].mean()"
   ]
  },
  {
   "cell_type": "code",
   "execution_count": 10,
   "id": "cdab8cc6",
   "metadata": {},
   "outputs": [],
   "source": [
    "agg_data = pd.DataFrame([{'Total Number of Schools' : Number_of_schools, 'Total Number of Students' : Number_of_students, \n",
    "                        'Total Budget' : Total_budget, 'Average Math Score' : Average_math,\n",
    "                        'Average Reading Score' : Average_reading}])"
   ]
  },
  {
   "cell_type": "code",
   "execution_count": 11,
   "id": "cb0d6e63",
   "metadata": {},
   "outputs": [
    {
     "data": {
      "text/html": [
       "<div>\n",
       "<style scoped>\n",
       "    .dataframe tbody tr th:only-of-type {\n",
       "        vertical-align: middle;\n",
       "    }\n",
       "\n",
       "    .dataframe tbody tr th {\n",
       "        vertical-align: top;\n",
       "    }\n",
       "\n",
       "    .dataframe thead th {\n",
       "        text-align: right;\n",
       "    }\n",
       "</style>\n",
       "<table border=\"1\" class=\"dataframe\">\n",
       "  <thead>\n",
       "    <tr style=\"text-align: right;\">\n",
       "      <th></th>\n",
       "      <th>Total Number of Schools</th>\n",
       "      <th>Total Number of Students</th>\n",
       "      <th>Total Budget</th>\n",
       "      <th>Average Math Score</th>\n",
       "      <th>Average Reading Score</th>\n",
       "    </tr>\n",
       "  </thead>\n",
       "  <tbody>\n",
       "    <tr>\n",
       "      <th>0</th>\n",
       "      <td>15</td>\n",
       "      <td>39170</td>\n",
       "      <td>24649428</td>\n",
       "      <td>78.985371</td>\n",
       "      <td>81.87784</td>\n",
       "    </tr>\n",
       "  </tbody>\n",
       "</table>\n",
       "</div>"
      ],
      "text/plain": [
       "   Total Number of Schools  Total Number of Students  Total Budget  \\\n",
       "0                       15                     39170      24649428   \n",
       "\n",
       "   Average Math Score  Average Reading Score  \n",
       "0           78.985371               81.87784  "
      ]
     },
     "execution_count": 11,
     "metadata": {},
     "output_type": "execute_result"
    }
   ],
   "source": [
    "agg_data"
   ]
  },
  {
   "cell_type": "code",
   "execution_count": 33,
   "id": "c4098642",
   "metadata": {},
   "outputs": [],
   "source": [
    "Number_passing_math = student_raw.loc[student_raw['math_score']>=70]['math_score'].count()\n",
    "Number_passing_reading = student_raw.loc[student_raw['reading_score']>=70]['reading_score'].count()\n",
    "Number_passing_both = Number_passing_math + Number_passing_reading\n",
    "Total_math = student_raw.loc[student_raw['math_score']]['math_score'].count()\n",
    "Total_reading = student_raw.loc[student_raw['reading_score']]['math_score'].count()\n",
    "Total_math_reading = Total_math + Total_reading\n",
    "\n",
    "\n",
    "agg_data['Percent Passing Math in %'] = round((Number_passing_math / Total_math * 100), 2)\n",
    "agg_data['Percent Passing Reading in %'] = round((Number_passing_reading / Total_reading * 100), 2)\n",
    "agg_data['Percent Passing Both in %'] = round((Number_passing_both / Total_math_reading * 100), 2)"
   ]
  },
  {
   "cell_type": "code",
   "execution_count": 34,
   "id": "3ff6de0c",
   "metadata": {},
   "outputs": [
    {
     "data": {
      "text/html": [
       "<div>\n",
       "<style scoped>\n",
       "    .dataframe tbody tr th:only-of-type {\n",
       "        vertical-align: middle;\n",
       "    }\n",
       "\n",
       "    .dataframe tbody tr th {\n",
       "        vertical-align: top;\n",
       "    }\n",
       "\n",
       "    .dataframe thead th {\n",
       "        text-align: right;\n",
       "    }\n",
       "</style>\n",
       "<table border=\"1\" class=\"dataframe\">\n",
       "  <thead>\n",
       "    <tr style=\"text-align: right;\">\n",
       "      <th></th>\n",
       "      <th>Total Number of Schools</th>\n",
       "      <th>Total Number of Students</th>\n",
       "      <th>Total Budget</th>\n",
       "      <th>Average Math Score</th>\n",
       "      <th>Average Reading Score</th>\n",
       "      <th>Percent Passing Math</th>\n",
       "      <th>Percent Passing Reading</th>\n",
       "      <th>Percent Passing Math in %</th>\n",
       "      <th>Percent Passing Reading in %</th>\n",
       "      <th>Percent Passing Both in %</th>\n",
       "    </tr>\n",
       "  </thead>\n",
       "  <tbody>\n",
       "    <tr>\n",
       "      <th>0</th>\n",
       "      <td>15</td>\n",
       "      <td>39170</td>\n",
       "      <td>24649428</td>\n",
       "      <td>78.985371</td>\n",
       "      <td>81.87784</td>\n",
       "      <td>74.98</td>\n",
       "      <td>85.81</td>\n",
       "      <td>74.98</td>\n",
       "      <td>85.81</td>\n",
       "      <td>80.39</td>\n",
       "    </tr>\n",
       "  </tbody>\n",
       "</table>\n",
       "</div>"
      ],
      "text/plain": [
       "   Total Number of Schools  Total Number of Students  Total Budget  \\\n",
       "0                       15                     39170      24649428   \n",
       "\n",
       "   Average Math Score  Average Reading Score  Percent Passing Math  \\\n",
       "0           78.985371               81.87784                 74.98   \n",
       "\n",
       "   Percent Passing Reading  Percent Passing Math in %  \\\n",
       "0                    85.81                      74.98   \n",
       "\n",
       "   Percent Passing Reading in %  Percent Passing Both in %  \n",
       "0                         85.81                      80.39  "
      ]
     },
     "execution_count": 34,
     "metadata": {},
     "output_type": "execute_result"
    }
   ],
   "source": [
    "agg_data"
   ]
  },
  {
   "cell_type": "markdown",
   "id": "ee6f8d03",
   "metadata": {},
   "source": [
    "### School Summary\n",
    "\n",
    "Create a DataFrame that summarizes key metrics about each school, including the following:\n",
    "\n",
    "* School name\n",
    "* School type\n",
    "* Total students\n",
    "* Total school budget\n",
    "* Per student budget\n",
    "* Average math score\n",
    "* Average reading score\n",
    "* % passing math (the percentage of students who passed math 70 or greater)\n",
    "* % passing reading (the percentage of students who passed reading 70 or greater)\n",
    "* % overall passing (the percentage of students who passed math AND reading)"
   ]
  },
  {
   "cell_type": "markdown",
   "id": "8e84aac4",
   "metadata": {},
   "source": [
    "### Highest-Performing Schools (by % Overall Passing)\n",
    "\n",
    "Create a DataFrame that highlights the top 5 performing schools based on % Overall Passing. Include the following metrics:\n",
    "\n",
    "* School name\n",
    "* School type\n",
    "* Total students\n",
    "* Total school budget\n",
    "* Per student budget\n",
    "* Average math score\n",
    "* Average reading score\n",
    "* % passing math (the percentage of students who passed math)\n",
    "* % passing reading (the percentage of students who passed reading)\n",
    "* % overall passing (the percentage of students who passed math AND reading)"
   ]
  },
  {
   "cell_type": "markdown",
   "id": "fc74c5bb",
   "metadata": {},
   "source": [
    "### Lowest-Performing Schools (by % Overall Passing)\n",
    "\n",
    "Create a DataFrame that highlights the bottom 5 performing schools based on % Overall Passing. Include the following metrics:\n",
    "\n",
    "* School name\n",
    "* School type\n",
    "* Total students\n",
    "* Total school budget\n",
    "* Per student budget\n",
    "* Average math score\n",
    "* Average reading score\n",
    "* % passing math (the percentage of students who passed math)\n",
    "* % passing reading (the percentage of students who passed reading)\n",
    "* % overall passing (the percentage of students who passed math AND reading)\n"
   ]
  },
  {
   "cell_type": "markdown",
   "id": "502b75f4",
   "metadata": {},
   "source": [
    "### Math Scores by Grade\n",
    "\n",
    "Create a DataFrame that lists the average math score for students of each grade level (9th, 10th, 11th, 12th) at each school."
   ]
  },
  {
   "cell_type": "markdown",
   "id": "7d62cbea",
   "metadata": {},
   "source": [
    "### Reading Scores by Grade\n",
    "\n",
    "Create a DataFrame that lists the average reading score for students of each grade level (9th, 10th, 11th, 12th) at each school."
   ]
  },
  {
   "cell_type": "markdown",
   "id": "25e5e07b",
   "metadata": {},
   "source": [
    "### Scores by School Spending\n",
    "\n",
    "Create a table that breaks down school performance based on average spending ranges (per student). Use your judgment to create four bins with reasonable cutoff values to group school spending. Include the following metrics in the table:\n",
    "\n",
    "* Average math score\n",
    "* Average reading score\n",
    "* % passing math (the percentage of students who passed math)\n",
    "* % passing reading (the percentage of students who passed reading)\n",
    "* % overall passing (the percentage of students who passed math AND reading)"
   ]
  },
  {
   "cell_type": "markdown",
   "id": "b1ad37dd",
   "metadata": {},
   "source": [
    "### Scores by School Size\n",
    "\n",
    "Create a table that breaks down school performance based on school size (small, medium, or large)."
   ]
  },
  {
   "cell_type": "markdown",
   "id": "2bf7f450",
   "metadata": {},
   "source": [
    "### Scores by School Type\n",
    "\n",
    "Create a table that breaks down school performance based on type of school (district or charter)."
   ]
  },
  {
   "cell_type": "code",
   "execution_count": null,
   "id": "378e94de",
   "metadata": {},
   "outputs": [],
   "source": []
  }
 ],
 "metadata": {
  "kernelspec": {
   "display_name": "Python 3 (ipykernel)",
   "language": "python",
   "name": "python3"
  },
  "language_info": {
   "codemirror_mode": {
    "name": "ipython",
    "version": 3
   },
   "file_extension": ".py",
   "mimetype": "text/x-python",
   "name": "python",
   "nbconvert_exporter": "python",
   "pygments_lexer": "ipython3",
   "version": "3.9.12"
  }
 },
 "nbformat": 4,
 "nbformat_minor": 5
}
